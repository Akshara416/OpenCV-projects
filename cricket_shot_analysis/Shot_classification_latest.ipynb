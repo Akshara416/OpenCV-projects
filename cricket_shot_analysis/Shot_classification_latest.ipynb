{
  "nbformat": 4,
  "nbformat_minor": 0,
  "metadata": {
    "colab": {
      "name": "Shot_classification_latest.ipynb",
      "provenance": [],
      "collapsed_sections": [],
      "authorship_tag": "ABX9TyO5truIgasdKyQ6EUM5U6As",
      "include_colab_link": true
    },
    "kernelspec": {
      "name": "python3",
      "display_name": "Python 3"
    },
    "language_info": {
      "name": "python"
    }
  },
  "cells": [
    {
      "cell_type": "markdown",
      "metadata": {
        "id": "view-in-github",
        "colab_type": "text"
      },
      "source": [
        "<a href=\"https://colab.research.google.com/github/Akshara416/OpenCV-projects/blob/master/cricket_shot_analysis/Shot_classification_latest.ipynb\" target=\"_parent\"><img src=\"https://colab.research.google.com/assets/colab-badge.svg\" alt=\"Open In Colab\"/></a>"
      ]
    },
    {
      "cell_type": "code",
      "execution_count": 22,
      "metadata": {
        "colab": {
          "base_uri": "https://localhost:8080/"
        },
        "id": "3OIumHBHsuuG",
        "outputId": "060269de-396c-4ab0-f271-a7c4e6ee5200"
      },
      "outputs": [
        {
          "output_type": "stream",
          "name": "stdout",
          "text": [
            "Mounted at /content/drive\n"
          ]
        }
      ],
      "source": [
        "from google.colab import drive\n",
        "drive.mount('/content/drive', force_remount=True)"
      ]
    },
    {
      "cell_type": "markdown",
      "source": [
        "## Trying out Scene change detection"
      ],
      "metadata": {
        "id": "NrczUyFptB-t"
      }
    },
    {
      "cell_type": "code",
      "source": [
        "#Reading the video\n",
        "import cv2 \n",
        "\n",
        "# Create a video capture object, in this case we are reading the video from a file\n",
        "#vid_capture = cv2.VideoCapture('/content/drive/MyDrive/Cricket_shots_analysis/videos/cricket_shots.mp4')\n",
        "video = '/content/drive/MyDrive/Cricket_shots_analysis/ICC_T20_2016/ICC_WT20_2016_v3.mp4'\n",
        "vid_capture = cv2.VideoCapture(video)\n",
        "vid_capture2 = cv2.VideoCapture(video)\n",
        "\n",
        "if (vid_capture.isOpened() == False):\n",
        "    print(\"Error opening the video file\")\n",
        "# Read fps and frame count\n",
        "else:\n",
        "    fps = vid_capture.get(5)\n",
        "    print('Frames per second : ', fps,'FPS')\n",
        "    frame_count = vid_capture.get(7)\n",
        "    print('Frame count : ', frame_count)"
      ],
      "metadata": {
        "colab": {
          "base_uri": "https://localhost:8080/"
        },
        "id": "wH-F0sKJtCax",
        "outputId": "843f2542-8402-44c1-e1d7-db5dd7e6eec9"
      },
      "execution_count": 44,
      "outputs": [
        {
          "output_type": "stream",
          "name": "stdout",
          "text": [
            "Frames per second :  25.0 FPS\n",
            "Frame count :  4039.0\n"
          ]
        }
      ]
    },
    {
      "cell_type": "code",
      "source": [
        "import numpy as np\n",
        "import matplotlib.pyplot as plt"
      ],
      "metadata": {
        "id": "o-ZhXecfuHij"
      },
      "execution_count": 28,
      "outputs": []
    },
    {
      "cell_type": "code",
      "source": [
        "nonzero=[]\n",
        "count = 0\n",
        "vid_capture2.read()\n",
        "while(vid_capture.isOpened()):\n",
        "  #count+=1\n",
        "  #print(count)\n",
        "  ret, frame = vid_capture.read()\n",
        "  ret_two, next_frame = vid_capture2.read()\n",
        "  #plt.imshow(cv2.cvtColor(frame,cv2.COLOR_BGR2RGB))\n",
        "  #plt.show()\n",
        "  if ret == True and ret_two == True and vid_capture.get(cv2.CAP_PROP_POS_FRAMES)<fps*60*13:\n",
        "    #frame = cv2.cvtColor(frame, cv2.COLOR_BGR2RGB)\n",
        "     \n",
        "    mask = cv2.absdiff(frame,next_frame)\n",
        "    _ , mask = cv2.threshold(mask, 50, 255, cv2.THRESH_BINARY)\n",
        "    num = np.count_nonzero((mask.ravel()))\n",
        "    nonzero.append(num)   \n",
        "\n",
        "  else:\n",
        "    vid_capture.release()\n",
        "    break\n",
        "\n",
        "x = np.arange(0,frame_count-1)\n",
        "y = nonzero\n",
        "\n",
        "plt.figure(figsize=(20,4))\n",
        "plt.scatter(x,y)"
      ],
      "metadata": {
        "colab": {
          "base_uri": "https://localhost:8080/",
          "height": 293
        },
        "id": "2uD_6d0NtGZT",
        "outputId": "9e9d8913-68c2-4f4b-9be4-861ab6ea12bd"
      },
      "execution_count": 29,
      "outputs": [
        {
          "output_type": "execute_result",
          "data": {
            "text/plain": [
              "<matplotlib.collections.PathCollection at 0x7f0e3676af50>"
            ]
          },
          "metadata": {},
          "execution_count": 29
        },
        {
          "output_type": "display_data",
          "data": {
            "text/plain": [
              "<Figure size 1440x288 with 1 Axes>"
            ],
            "image/png": "[encoded data removed]"
          },
          "metadata": {
            "needs_background": "light"
          }
        }
      ]
    },
    {
      "cell_type": "code",
      "source": [
        "nonzero=[]\n",
        "count = 0\n",
        "vid_capture2.read()\n",
        "while(vid_capture.isOpened()):\n",
        "  count+=1\n",
        "  #print(count)\n",
        "  ret, frame = vid_capture.read()\n",
        "  ret_two, next_frame = vid_capture2.read()\n",
        "  #plt.imshow(cv2.cvtColor(frame,cv2.COLOR_BGR2RGB))\n",
        "  #plt.show()\n",
        "  if ret == True and ret_two == True and vid_capture.get(cv2.CAP_PROP_POS_FRAMES)<fps*8:\n",
        "    #frame = cv2.cvtColor(frame, cv2.COLOR_BGR2RGB)\n",
        "     \n",
        "    mask = cv2.absdiff(frame,next_frame)\n",
        "    _ , mask = cv2.threshold(mask, 50, 255, cv2.THRESH_BINARY)\n",
        "    num = np.count_nonzero((mask.ravel()))\n",
        "    nonzero.append(num)   \n",
        "\n",
        "  else:\n",
        "    vid_capture.release()\n",
        "    break\n",
        "\n",
        "\n",
        "y = nonzero\n",
        "x = np.arange(0,len(y))\n",
        "print(x.shape)\n",
        "print(len(y))\n",
        "\n",
        "plt.figure(figsize=(20,4))\n",
        "plt.scatter(x,y)"
      ],
      "metadata": {
        "id": "-YMO9rkjwXYn",
        "colab": {
          "base_uri": "https://localhost:8080/",
          "height": 328
        },
        "outputId": "3e8a9cd7-d889-49cb-94db-41b3ef29b2e4"
      },
      "execution_count": 33,
      "outputs": [
        {
          "output_type": "stream",
          "name": "stdout",
          "text": [
            "(199,)\n",
            "199\n"
          ]
        },
        {
          "output_type": "execute_result",
          "data": {
            "text/plain": [
              "<matplotlib.collections.PathCollection at 0x7f0e36f63410>"
            ]
          },
          "metadata": {},
          "execution_count": 33
        },
        {
          "output_type": "display_data",
          "data": {
            "text/plain": [
              "<Figure size 1440x288 with 1 Axes>"
            ],
            "image/png": "[encoded data removed]"
          },
          "metadata": {
            "needs_background": "light"
          }
        }
      ]
    },
    {
      "cell_type": "code",
      "source": [
        "nonzero=[]\n",
        "count = 0\n",
        "\n",
        "vid_capture.set(cv2.CAP_PROP_POS_FRAMES,fps*8)\n",
        "vid_capture2.set(cv2.CAP_PROP_POS_FRAMES,fps*8)\n",
        "vid_capture2.read()\n",
        "\n",
        "while(vid_capture.isOpened()):\n",
        "  count+=1\n",
        "  #print(count)\n",
        "  ret, frame = vid_capture.read()\n",
        "  ret_two, next_frame = vid_capture2.read()\n",
        "  #plt.imshow(cv2.cvtColor(frame,cv2.COLOR_BGR2RGB))\n",
        "  #plt.show()\n",
        "  if ret == True and ret_two == True and vid_capture.get(cv2.CAP_PROP_POS_FRAMES)<fps*18:\n",
        "    #frame = cv2.cvtColor(frame, cv2.COLOR_BGR2RGB)\n",
        "     \n",
        "    mask = cv2.absdiff(frame,next_frame)\n",
        "    _ , mask = cv2.threshold(mask, 50, 255, cv2.THRESH_BINARY)\n",
        "    num = np.count_nonzero((mask.ravel()))\n",
        "    nonzero.append(num)   \n",
        "\n",
        "  else:\n",
        "    vid_capture.release()\n",
        "    break\n",
        "\n",
        "\n",
        "y = nonzero\n",
        "x = np.arange(200,200+len(y))\n",
        "print(x.shape)\n",
        "print(len(y))\n",
        "\n",
        "plt.figure(figsize=(20,4))\n",
        "plt.scatter(x,y)"
      ],
      "metadata": {
        "colab": {
          "base_uri": "https://localhost:8080/",
          "height": 328
        },
        "id": "cAfv7cJqtGbv",
        "outputId": "610a82b1-f5a3-4cbf-d597-892e40b0388d"
      },
      "execution_count": 41,
      "outputs": [
        {
          "output_type": "stream",
          "name": "stdout",
          "text": [
            "(249,)\n",
            "249\n"
          ]
        },
        {
          "output_type": "execute_result",
          "data": {
            "text/plain": [
              "<matplotlib.collections.PathCollection at 0x7f0e365c9790>"
            ]
          },
          "metadata": {},
          "execution_count": 41
        },
        {
          "output_type": "display_data",
          "data": {
            "text/plain": [
              "<Figure size 1440x288 with 1 Axes>"
            ],
            "image/png": "[encoded data removed]"
          },
          "metadata": {
            "needs_background": "light"
          }
        }
      ]
    },
    {
      "cell_type": "code",
      "source": [
        "nonzero=[]\n",
        "count = 0\n",
        "\n",
        "vid_capture.set(cv2.CAP_PROP_POS_FRAMES,fps*18)\n",
        "vid_capture2.set(cv2.CAP_PROP_POS_FRAMES,fps*18)\n",
        "vid_capture2.read()\n",
        "\n",
        "while(vid_capture.isOpened()):\n",
        "  count+=1\n",
        "  #print(count)\n",
        "  ret, frame = vid_capture.read()\n",
        "  ret_two, next_frame = vid_capture2.read()\n",
        "  #plt.imshow(cv2.cvtColor(frame,cv2.COLOR_BGR2RGB))\n",
        "  #plt.show()\n",
        "  if ret == True and ret_two == True and vid_capture.get(cv2.CAP_PROP_POS_FRAMES)<fps*30:\n",
        "    #frame = cv2.cvtColor(frame, cv2.COLOR_BGR2RGB)\n",
        "     \n",
        "    mask = cv2.absdiff(frame,next_frame)\n",
        "    _ , mask = cv2.threshold(mask, 50, 255, cv2.THRESH_BINARY)\n",
        "    num = np.count_nonzero((mask.ravel()))\n",
        "    nonzero.append(num)   \n",
        "\n",
        "  else:\n",
        "    vid_capture.release()\n",
        "    break\n",
        "\n",
        "\n",
        "y = nonzero\n",
        "x = np.arange(450,450+len(y))\n",
        "print(x.shape)\n",
        "print(len(y))\n",
        "\n",
        "plt.figure(figsize=(20,4))\n",
        "plt.scatter(x,y)"
      ],
      "metadata": {
        "colab": {
          "base_uri": "https://localhost:8080/",
          "height": 328
        },
        "id": "Cg6e1rgYtGe2",
        "outputId": "74b1aa82-9afb-46e4-8f39-52c291f7aec5"
      },
      "execution_count": 45,
      "outputs": [
        {
          "output_type": "stream",
          "name": "stdout",
          "text": [
            "(299,)\n",
            "299\n"
          ]
        },
        {
          "output_type": "execute_result",
          "data": {
            "text/plain": [
              "<matplotlib.collections.PathCollection at 0x7f0e36417490>"
            ]
          },
          "metadata": {},
          "execution_count": 45
        },
        {
          "output_type": "display_data",
          "data": {
            "text/plain": [
              "<Figure size 1440x288 with 1 Axes>"
            ],
            "image/png": "[encoded data removed]"
          },
          "metadata": {
            "needs_background": "light"
          }
        }
      ]
    },
    {
      "cell_type": "code",
      "source": [
        ""
      ],
      "metadata": {
        "id": "Qv1MxsJStGhX"
      },
      "execution_count": null,
      "outputs": []
    },
    {
      "cell_type": "code",
      "source": [
        "nonzero=[]\n",
        "for i in range((len(images)-1)):\n",
        "    \n",
        "    mask = cv2.absdiff(images[i],images[i+1])\n",
        "    _ , mask = cv2.threshold(mask, 50, 255, cv2.THRESH_BINARY)\n",
        "    num = np.count_nonzero((mask.ravel()))\n",
        "    nonzero.append(num)\n",
        "    \n",
        "    \n",
        "x = np.arange(0,len(images)-1)\n",
        "y = nonzero\n",
        "\n",
        "plt.figure(figsize=(20,4))\n",
        "plt.scatter(x,y)"
      ],
      "metadata": {
        "id": "O-HJDcn_tGkm"
      },
      "execution_count": null,
      "outputs": []
    }
  ]
}