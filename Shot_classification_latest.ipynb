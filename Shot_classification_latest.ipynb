{
  "nbformat": 4,
  "nbformat_minor": 0,
  "metadata": {
    "colab": {
      "name": "Shot_classification_latest.ipynb",
      "provenance": [],
      "collapsed_sections": [],
      "authorship_tag": "ABX9TyPF/F2AiP/2reWGaBH0Lfqt",
      "include_colab_link": true
    },
    "kernelspec": {
      "name": "python3",
      "display_name": "Python 3"
    },
    "language_info": {
      "name": "python"
    },
    "widgets": {
      "application/vnd.jupyter.widget-state+json": {
        "80941f8d8b9646f7aff0492c75af8a23": {
          "model_module": "@jupyter-widgets/controls",
          "model_name": "HBoxModel",
          "model_module_version": "1.5.0",
          "state": {
            "_dom_classes": [],
            "_model_module": "@jupyter-widgets/controls",
            "_model_module_version": "1.5.0",
            "_model_name": "HBoxModel",
            "_view_count": null,
            "_view_module": "@jupyter-widgets/controls",
            "_view_module_version": "1.5.0",
            "_view_name": "HBoxView",
            "box_style": "",
            "children": [
              "IPY_MODEL_51111e165c604a65b1391c0869763422",
              "IPY_MODEL_9a965e9d893742b196d733ace7c42cac",
              "IPY_MODEL_b08a4df161fe4ed988626079eea6bbd1"
            ],
            "layout": "IPY_MODEL_7e23b0280e6e41fba4234e28b4f8118c"
          }
        },
        "51111e165c604a65b1391c0869763422": {
          "model_module": "@jupyter-widgets/controls",
          "model_name": "HTMLModel",
          "model_module_version": "1.5.0",
          "state": {
            "_dom_classes": [],
            "_model_module": "@jupyter-widgets/controls",
            "_model_module_version": "1.5.0",
            "_model_name": "HTMLModel",
            "_view_count": null,
            "_view_module": "@jupyter-widgets/controls",
            "_view_module_version": "1.5.0",
            "_view_name": "HTMLView",
            "description": "",
            "description_tooltip": null,
            "layout": "IPY_MODEL_3daba4d190954071b790f0ed5d3cc37b",
            "placeholder": "​",
            "style": "IPY_MODEL_ae75ab4ec2254d7f9ba9e179f61cb187",
            "value": "100%"
          }
        },
        "9a965e9d893742b196d733ace7c42cac": {
          "model_module": "@jupyter-widgets/controls",
          "model_name": "FloatProgressModel",
          "model_module_version": "1.5.0",
          "state": {
            "_dom_classes": [],
            "_model_module": "@jupyter-widgets/controls",
            "_model_module_version": "1.5.0",
            "_model_name": "FloatProgressModel",
            "_view_count": null,
            "_view_module": "@jupyter-widgets/controls",
            "_view_module_version": "1.5.0",
            "_view_name": "ProgressView",
            "bar_style": "success",
            "description": "",
            "description_tooltip": null,
            "layout": "IPY_MODEL_650cd98ffe9d41f5a732c2817778d2a2",
            "max": 14808437,
            "min": 0,
            "orientation": "horizontal",
            "style": "IPY_MODEL_526bbf32431644ba939ddfb5d9cd91b2",
            "value": 14808437
          }
        },
        "b08a4df161fe4ed988626079eea6bbd1": {
          "model_module": "@jupyter-widgets/controls",
          "model_name": "HTMLModel",
          "model_module_version": "1.5.0",
          "state": {
            "_dom_classes": [],
            "_model_module": "@jupyter-widgets/controls",
            "_model_module_version": "1.5.0",
            "_model_name": "HTMLModel",
            "_view_count": null,
            "_view_module": "@jupyter-widgets/controls",
            "_view_module_version": "1.5.0",
            "_view_name": "HTMLView",
            "description": "",
            "description_tooltip": null,
            "layout": "IPY_MODEL_3bdfbfbd556147e2bb8b4935d8958933",
            "placeholder": "​",
            "style": "IPY_MODEL_cafb520b4a554cf995081bbb62e4c0b7",
            "value": " 14.1M/14.1M [00:00&lt;00:00, 31.5MB/s]"
          }
        },
        "7e23b0280e6e41fba4234e28b4f8118c": {
          "model_module": "@jupyter-widgets/base",
          "model_name": "LayoutModel",
          "model_module_version": "1.2.0",
          "state": {
            "_model_module": "@jupyter-widgets/base",
            "_model_module_version": "1.2.0",
            "_model_name": "LayoutModel",
            "_view_count": null,
            "_view_module": "@jupyter-widgets/base",
            "_view_module_version": "1.2.0",
            "_view_name": "LayoutView",
            "align_content": null,
            "align_items": null,
            "align_self": null,
            "border": null,
            "bottom": null,
            "display": null,
            "flex": null,
            "flex_flow": null,
            "grid_area": null,
            "grid_auto_columns": null,
            "grid_auto_flow": null,
            "grid_auto_rows": null,
            "grid_column": null,
            "grid_gap": null,
            "grid_row": null,
            "grid_template_areas": null,
            "grid_template_columns": null,
            "grid_template_rows": null,
            "height": null,
            "justify_content": null,
            "justify_items": null,
            "left": null,
            "margin": null,
            "max_height": null,
            "max_width": null,
            "min_height": null,
            "min_width": null,
            "object_fit": null,
            "object_position": null,
            "order": null,
            "overflow": null,
            "overflow_x": null,
            "overflow_y": null,
            "padding": null,
            "right": null,
            "top": null,
            "visibility": null,
            "width": null
          }
        },
        "3daba4d190954071b790f0ed5d3cc37b": {
          "model_module": "@jupyter-widgets/base",
          "model_name": "LayoutModel",
          "model_module_version": "1.2.0",
          "state": {
            "_model_module": "@jupyter-widgets/base",
            "_model_module_version": "1.2.0",
            "_model_name": "LayoutModel",
            "_view_count": null,
            "_view_module": "@jupyter-widgets/base",
            "_view_module_version": "1.2.0",
            "_view_name": "LayoutView",
            "align_content": null,
            "align_items": null,
            "align_self": null,
            "border": null,
            "bottom": null,
            "display": null,
            "flex": null,
            "flex_flow": null,
            "grid_area": null,
            "grid_auto_columns": null,
            "grid_auto_flow": null,
            "grid_auto_rows": null,
            "grid_column": null,
            "grid_gap": null,
            "grid_row": null,
            "grid_template_areas": null,
            "grid_template_columns": null,
            "grid_template_rows": null,
            "height": null,
            "justify_content": null,
            "justify_items": null,
            "left": null,
            "margin": null,
            "max_height": null,
            "max_width": null,
            "min_height": null,
            "min_width": null,
            "object_fit": null,
            "object_position": null,
            "order": null,
            "overflow": null,
            "overflow_x": null,
            "overflow_y": null,
            "padding": null,
            "right": null,
            "top": null,
            "visibility": null,
            "width": null
          }
        },
        "ae75ab4ec2254d7f9ba9e179f61cb187": {
          "model_module": "@jupyter-widgets/controls",
          "model_name": "DescriptionStyleModel",
          "model_module_version": "1.5.0",
          "state": {
            "_model_module": "@jupyter-widgets/controls",
            "_model_module_version": "1.5.0",
            "_model_name": "DescriptionStyleModel",
            "_view_count": null,
            "_view_module": "@jupyter-widgets/base",
            "_view_module_version": "1.2.0",
            "_view_name": "StyleView",
            "description_width": ""
          }
        },
        "650cd98ffe9d41f5a732c2817778d2a2": {
          "model_module": "@jupyter-widgets/base",
          "model_name": "LayoutModel",
          "model_module_version": "1.2.0",
          "state": {
            "_model_module": "@jupyter-widgets/base",
            "_model_module_version": "1.2.0",
            "_model_name": "LayoutModel",
            "_view_count": null,
            "_view_module": "@jupyter-widgets/base",
            "_view_module_version": "1.2.0",
            "_view_name": "LayoutView",
            "align_content": null,
            "align_items": null,
            "align_self": null,
            "border": null,
            "bottom": null,
            "display": null,
            "flex": null,
            "flex_flow": null,
            "grid_area": null,
            "grid_auto_columns": null,
            "grid_auto_flow": null,
            "grid_auto_rows": null,
            "grid_column": null,
            "grid_gap": null,
            "grid_row": null,
            "grid_template_areas": null,
            "grid_template_columns": null,
            "grid_template_rows": null,
            "height": null,
            "justify_content": null,
            "justify_items": null,
            "left": null,
            "margin": null,
            "max_height": null,
            "max_width": null,
            "min_height": null,
            "min_width": null,
            "object_fit": null,
            "object_position": null,
            "order": null,
            "overflow": null,
            "overflow_x": null,
            "overflow_y": null,
            "padding": null,
            "right": null,
            "top": null,
            "visibility": null,
            "width": null
          }
        },
        "526bbf32431644ba939ddfb5d9cd91b2": {
          "model_module": "@jupyter-widgets/controls",
          "model_name": "ProgressStyleModel",
          "model_module_version": "1.5.0",
          "state": {
            "_model_module": "@jupyter-widgets/controls",
            "_model_module_version": "1.5.0",
            "_model_name": "ProgressStyleModel",
            "_view_count": null,
            "_view_module": "@jupyter-widgets/base",
            "_view_module_version": "1.2.0",
            "_view_name": "StyleView",
            "bar_color": null,
            "description_width": ""
          }
        },
        "3bdfbfbd556147e2bb8b4935d8958933": {
          "model_module": "@jupyter-widgets/base",
          "model_name": "LayoutModel",
          "model_module_version": "1.2.0",
          "state": {
            "_model_module": "@jupyter-widgets/base",
            "_model_module_version": "1.2.0",
            "_model_name": "LayoutModel",
            "_view_count": null,
            "_view_module": "@jupyter-widgets/base",
            "_view_module_version": "1.2.0",
            "_view_name": "LayoutView",
            "align_content": null,
            "align_items": null,
            "align_self": null,
            "border": null,
            "bottom": null,
            "display": null,
            "flex": null,
            "flex_flow": null,
            "grid_area": null,
            "grid_auto_columns": null,
            "grid_auto_flow": null,
            "grid_auto_rows": null,
            "grid_column": null,
            "grid_gap": null,
            "grid_row": null,
            "grid_template_areas": null,
            "grid_template_columns": null,
            "grid_template_rows": null,
            "height": null,
            "justify_content": null,
            "justify_items": null,
            "left": null,
            "margin": null,
            "max_height": null,
            "max_width": null,
            "min_height": null,
            "min_width": null,
            "object_fit": null,
            "object_position": null,
            "order": null,
            "overflow": null,
            "overflow_x": null,
            "overflow_y": null,
            "padding": null,
            "right": null,
            "top": null,
            "visibility": null,
            "width": null
          }
        },
        "cafb520b4a554cf995081bbb62e4c0b7": {
          "model_module": "@jupyter-widgets/controls",
          "model_name": "DescriptionStyleModel",
          "model_module_version": "1.5.0",
          "state": {
            "_model_module": "@jupyter-widgets/controls",
            "_model_module_version": "1.5.0",
            "_model_name": "DescriptionStyleModel",
            "_view_count": null,
            "_view_module": "@jupyter-widgets/base",
            "_view_module_version": "1.2.0",
            "_view_name": "StyleView",
            "description_width": ""
          }
        }
      }
    }
  },
  "cells": [
    {
      "cell_type": "markdown",
      "metadata": {
        "id": "view-in-github",
        "colab_type": "text"
      },
      "source": [
        "<a href=\"https://colab.research.google.com/github/Akshara416/OpenCV-projects/blob/master/Shot_classification_latest.ipynb\" target=\"_parent\"><img src=\"https://colab.research.google.com/assets/colab-badge.svg\" alt=\"Open In Colab\"/></a>"
      ]
    },
    {
      "cell_type": "code",
      "execution_count": 2,
      "metadata": {
        "colab": {
          "base_uri": "https://localhost:8080/"
        },
        "id": "3OIumHBHsuuG",
        "outputId": "536cc54e-ffb2-45d0-b9a8-54ea2cfc8965"
      },
      "outputs": [
        {
          "output_type": "stream",
          "name": "stdout",
          "text": [
            "Mounted at /content/drive\n"
          ]
        }
      ],
      "source": [
        "from google.colab import drive\n",
        "drive.mount('/content/drive', force_remount=True)"
      ]
    },
    {
      "cell_type": "markdown",
      "source": [
        "## Trying out Scene change detection"
      ],
      "metadata": {
        "id": "NrczUyFptB-t"
      }
    },
    {
      "cell_type": "code",
      "source": [
        "#Reading the video\n",
        "import cv2 \n",
        "import numpy as np\n",
        "import matplotlib.pyplot as plt\n",
        "\n",
        "# Create a video capture object, in this case we are reading the video from a file\n",
        "#vid_capture = cv2.VideoCapture('/content/drive/MyDrive/Cricket_shots_analysis/videos/cricket_shots.mp4')\n",
        "\n",
        "video = '/content/drive/MyDrive/Cricket_shots_analysis/ICC_T20_2016/ICC_WT20_2016_v1.mp4'\n",
        "vid_capture = cv2.VideoCapture(video)\n",
        "vid_capture2 = cv2.VideoCapture(video)\n",
        "\n",
        "if (vid_capture.isOpened() == False):\n",
        "    print(\"Error opening the video file\")\n",
        "# Read fps and frame count\n",
        "else:\n",
        "    fps = vid_capture.get(5)\n",
        "    print('Frames per second : ', fps,'FPS')\n",
        "    frame_count = vid_capture.get(7)\n",
        "    print('Frame count : ', frame_count)"
      ],
      "metadata": {
        "colab": {
          "base_uri": "https://localhost:8080/"
        },
        "id": "wH-F0sKJtCax",
        "outputId": "c3d1e28e-5b90-4780-a8da-70a653c64bcc"
      },
      "execution_count": 3,
      "outputs": [
        {
          "output_type": "stream",
          "name": "stdout",
          "text": [
            "Frames per second :  25.0 FPS\n",
            "Frame count :  4452.0\n"
          ]
        }
      ]
    },
    {
      "cell_type": "code",
      "source": [
        "nonzero=[]\n",
        "count = 0\n",
        "vid_capture2.read()\n",
        "while(vid_capture.isOpened()):\n",
        "  #count+=1\n",
        "  #print(count)\n",
        "  ret, frame = vid_capture.read()\n",
        "  ret_two, next_frame = vid_capture2.read()\n",
        "  #plt.imshow(cv2.cvtColor(frame,cv2.COLOR_BGR2RGB))\n",
        "  #plt.show()\n",
        "  if ret == True and ret_two == True:\n",
        "    #frame = cv2.cvtColor(frame, cv2.COLOR_BGR2RGB)\n",
        "     \n",
        "    mask = cv2.absdiff(frame,next_frame)\n",
        "    _ , mask = cv2.threshold(mask, 50, 255, cv2.THRESH_BINARY)\n",
        "    num = np.count_nonzero((mask.ravel()))\n",
        "    nonzero.append(num)   \n",
        "\n",
        "  else:\n",
        "    vid_capture.release()\n",
        "    break\n",
        "\n",
        "x = np.arange(0,frame_count-1)\n",
        "y = nonzero\n",
        "\n",
        "plt.figure(figsize=(20,4))\n",
        "plt.scatter(x,y)"
      ],
      "metadata": {
        "colab": {
          "base_uri": "https://localhost:8080/",
          "height": 293
        },
        "id": "2uD_6d0NtGZT",
        "outputId": "8e2fcb84-ed08-4c01-c615-f8c0a3b6fb5d"
      },
      "execution_count": 4,
      "outputs": [
        {
          "output_type": "execute_result",
          "data": {
            "text/plain": [
              "<matplotlib.collections.PathCollection at 0x7f8157ce4ed0>"
            ]
          },
          "metadata": {},
          "execution_count": 4
        },
        {
          "output_type": "display_data",
          "data": {
            "text/plain": [
              "<Figure size 1440x288 with 1 Axes>"
            ],
            "image/png": "[encoded data removed]"
          },
          "metadata": {
            "needs_background": "light"
          }
        }
      ]
    },
    {
      "cell_type": "code",
      "source": [
        ""
      ],
      "metadata": {
        "id": "3XM8kP5fIt1H"
      },
      "execution_count": null,
      "outputs": []
    },
    {
      "cell_type": "code",
      "source": [
        ""
      ],
      "metadata": {
        "id": "WF0rQ1aoIt4p"
      },
      "execution_count": null,
      "outputs": []
    },
    {
      "cell_type": "code",
      "source": [
        "nonzero=[]\n",
        "count = 0\n",
        "vid_capture2.read()\n",
        "while(vid_capture.isOpened()):\n",
        "  count+=1\n",
        "  #print(count)\n",
        "  ret, frame = vid_capture.read()\n",
        "  ret_two, next_frame = vid_capture2.read()\n",
        "  #plt.imshow(cv2.cvtColor(frame,cv2.COLOR_BGR2RGB))\n",
        "  #plt.show()\n",
        "  if ret == True and ret_two == True and vid_capture.get(cv2.CAP_PROP_POS_FRAMES)<fps*8:\n",
        "    #frame = cv2.cvtColor(frame, cv2.COLOR_BGR2RGB)\n",
        "     \n",
        "    mask = cv2.absdiff(frame,next_frame)\n",
        "    _ , mask = cv2.threshold(mask, 50, 255, cv2.THRESH_BINARY)\n",
        "    num = np.count_nonzero((mask.ravel()))\n",
        "    nonzero.append(num)   \n",
        "\n",
        "  else:\n",
        "    vid_capture.release()\n",
        "    break\n",
        "\n",
        "\n",
        "y = nonzero\n",
        "x = np.arange(0,len(y))\n",
        "print(x.shape)\n",
        "print(len(y))\n",
        "\n",
        "plt.figure(figsize=(20,4))\n",
        "plt.scatter(x,y)"
      ],
      "metadata": {
        "id": "-YMO9rkjwXYn",
        "colab": {
          "base_uri": "https://localhost:8080/",
          "height": 324
        },
        "outputId": "0cce3ba8-13ca-4fcf-9784-5f5d995a5c6e"
      },
      "execution_count": null,
      "outputs": [
        {
          "output_type": "stream",
          "name": "stdout",
          "text": [
            "(199,)\n",
            "199\n"
          ]
        },
        {
          "output_type": "execute_result",
          "data": {
            "text/plain": [
              "<matplotlib.collections.PathCollection at 0x7f36a9985410>"
            ]
          },
          "metadata": {},
          "execution_count": 56
        },
        {
          "output_type": "display_data",
          "data": {
            "text/plain": [
              "<Figure size 1440x288 with 1 Axes>"
            ],
            "image/png": "[encoded data removed]"
          },
          "metadata": {
            "needs_background": "light"
          }
        }
      ]
    },
    {
      "cell_type": "code",
      "source": [
        "nonzero"
      ],
      "metadata": {
        "id": "DHcHESa1g37J"
      },
      "execution_count": null,
      "outputs": []
    },
    {
      "cell_type": "code",
      "source": [
        ""
      ],
      "metadata": {
        "id": "ZxGideN-gQug"
      },
      "execution_count": null,
      "outputs": []
    },
    {
      "cell_type": "code",
      "source": [
        "nonzero=[]\n",
        "count = 0\n",
        "\n",
        "vid_capture.set(cv2.CAP_PROP_POS_FRAMES,fps*8)\n",
        "vid_capture2.set(cv2.CAP_PROP_POS_FRAMES,fps*8)\n",
        "vid_capture2.read()\n",
        "\n",
        "while(vid_capture.isOpened()):\n",
        "  count+=1\n",
        "  #print(count)\n",
        "  ret, frame = vid_capture.read()\n",
        "  ret_two, next_frame = vid_capture2.read()\n",
        "  #plt.imshow(cv2.cvtColor(frame,cv2.COLOR_BGR2RGB))\n",
        "  #plt.show()\n",
        "  if ret == True and ret_two == True and vid_capture.get(cv2.CAP_PROP_POS_FRAMES)<fps*18:\n",
        "    #frame = cv2.cvtColor(frame, cv2.COLOR_BGR2RGB)\n",
        "     \n",
        "    mask = cv2.absdiff(frame,next_frame)\n",
        "    _ , mask = cv2.threshold(mask, 50, 255, cv2.THRESH_BINARY)\n",
        "    num = np.count_nonzero((mask.ravel()))\n",
        "    nonzero.append(num)   \n",
        "\n",
        "  else:\n",
        "    vid_capture.release()\n",
        "    break\n",
        "\n",
        "\n",
        "y = nonzero\n",
        "x = np.arange(200,200+len(y))\n",
        "print(x.shape)\n",
        "print(len(y))\n",
        "\n",
        "plt.figure(figsize=(20,4))\n",
        "plt.scatter(x,y)"
      ],
      "metadata": {
        "colab": {
          "base_uri": "https://localhost:8080/",
          "height": 328
        },
        "id": "cAfv7cJqtGbv",
        "outputId": "610a82b1-f5a3-4cbf-d597-892e40b0388d"
      },
      "execution_count": null,
      "outputs": [
        {
          "output_type": "stream",
          "name": "stdout",
          "text": [
            "(249,)\n",
            "249\n"
          ]
        },
        {
          "output_type": "execute_result",
          "data": {
            "text/plain": [
              "<matplotlib.collections.PathCollection at 0x7f0e365c9790>"
            ]
          },
          "metadata": {},
          "execution_count": 41
        },
        {
          "output_type": "display_data",
          "data": {
            "text/plain": [
              "<Figure size 1440x288 with 1 Axes>"
            ],
            "image/png": "[encoded data removed]"
          },
          "metadata": {
            "needs_background": "light"
          }
        }
      ]
    },
    {
      "cell_type": "code",
      "source": [
        "nonzero=[]\n",
        "count = 0\n",
        "\n",
        "vid_capture.set(cv2.CAP_PROP_POS_FRAMES,fps*18)\n",
        "vid_capture2.set(cv2.CAP_PROP_POS_FRAMES,fps*18)\n",
        "vid_capture2.read()\n",
        "\n",
        "while(vid_capture.isOpened()):\n",
        "  count+=1\n",
        "  #print(count)\n",
        "  ret, frame = vid_capture.read()\n",
        "  ret_two, next_frame = vid_capture2.read()\n",
        "  #plt.imshow(cv2.cvtColor(frame,cv2.COLOR_BGR2RGB))\n",
        "  #plt.show()\n",
        "  if ret == True and ret_two == True and vid_capture.get(cv2.CAP_PROP_POS_FRAMES)<fps*30:\n",
        "    #frame = cv2.cvtColor(frame, cv2.COLOR_BGR2RGB)\n",
        "     \n",
        "    mask = cv2.absdiff(frame,next_frame)\n",
        "    _ , mask = cv2.threshold(mask, 50, 255, cv2.THRESH_BINARY)\n",
        "    num = np.count_nonzero((mask.ravel()))\n",
        "    nonzero.append(num)   \n",
        "\n",
        "  else:\n",
        "    vid_capture.release()\n",
        "    break\n",
        "\n",
        "\n",
        "y = nonzero\n",
        "x = np.arange(450,450+len(y))\n",
        "print(x.shape)\n",
        "print(len(y))\n",
        "\n",
        "plt.figure(figsize=(20,4))\n",
        "plt.scatter(x,y)"
      ],
      "metadata": {
        "colab": {
          "base_uri": "https://localhost:8080/",
          "height": 328
        },
        "id": "Cg6e1rgYtGe2",
        "outputId": "74b1aa82-9afb-46e4-8f39-52c291f7aec5"
      },
      "execution_count": null,
      "outputs": [
        {
          "output_type": "stream",
          "name": "stdout",
          "text": [
            "(299,)\n",
            "299\n"
          ]
        },
        {
          "output_type": "execute_result",
          "data": {
            "text/plain": [
              "<matplotlib.collections.PathCollection at 0x7f0e36417490>"
            ]
          },
          "metadata": {},
          "execution_count": 45
        },
        {
          "output_type": "display_data",
          "data": {
            "text/plain": [
              "<Figure size 1440x288 with 1 Axes>"
            ],
            "image/png": "[encoded data removed]"
          },
          "metadata": {
            "needs_background": "light"
          }
        }
      ]
    },
    {
      "cell_type": "code",
      "source": [
        "nonzero=[]\n",
        "count = 0\n",
        "\n",
        "vid_capture.set(cv2.CAP_PROP_POS_FRAMES,fps*30)\n",
        "vid_capture2.set(cv2.CAP_PROP_POS_FRAMES,fps*30)\n",
        "vid_capture2.read()\n",
        "\n",
        "while(vid_capture.isOpened()):\n",
        "  count+=1\n",
        "  #print(count)\n",
        "  ret, frame = vid_capture.read()\n",
        "  ret_two, next_frame = vid_capture2.read()\n",
        "  #plt.imshow(cv2.cvtColor(frame,cv2.COLOR_BGR2RGB))\n",
        "  #plt.show()\n",
        "  if ret == True and ret_two == True and vid_capture.get(cv2.CAP_PROP_POS_FRAMES)<fps*46:\n",
        "    #frame = cv2.cvtColor(frame, cv2.COLOR_BGR2RGB)\n",
        "     \n",
        "    mask = cv2.absdiff(frame,next_frame)\n",
        "    _ , mask = cv2.threshold(mask, 50, 255, cv2.THRESH_BINARY)\n",
        "    num = np.count_nonzero((mask.ravel()))\n",
        "    nonzero.append(num)   \n",
        "\n",
        "  else:\n",
        "    vid_capture.release()\n",
        "    break\n",
        "\n",
        "\n",
        "y = nonzero\n",
        "x = np.arange(int(fps*30),int(fps*30)+len(y))\n",
        "print(x.shape)\n",
        "print(len(y))\n",
        "\n",
        "plt.figure(figsize=(20,4))\n",
        "plt.scatter(x,y)"
      ],
      "metadata": {
        "id": "Qv1MxsJStGhX",
        "colab": {
          "base_uri": "https://localhost:8080/",
          "height": 328
        },
        "outputId": "7bde56a2-b356-4777-9c0c-4501610052ff"
      },
      "execution_count": null,
      "outputs": [
        {
          "output_type": "stream",
          "name": "stdout",
          "text": [
            "(399,)\n",
            "399\n"
          ]
        },
        {
          "output_type": "execute_result",
          "data": {
            "text/plain": [
              "<matplotlib.collections.PathCollection at 0x7f0e3636c3d0>"
            ]
          },
          "metadata": {},
          "execution_count": 47
        },
        {
          "output_type": "display_data",
          "data": {
            "text/plain": [
              "<Figure size 1440x288 with 1 Axes>"
            ],
            "image/png": "[encoded data removed]"
          },
          "metadata": {
            "needs_background": "light"
          }
        }
      ]
    },
    {
      "cell_type": "markdown",
      "source": [
        "# **Extracting shots based on threshold**"
      ],
      "metadata": {
        "id": "DSb7W_NUIzrK"
      }
    },
    {
      "cell_type": "code",
      "source": [
        "len(nonzero)"
      ],
      "metadata": {
        "colab": {
          "base_uri": "https://localhost:8080/"
        },
        "id": "z2FbyoQNc9O7",
        "outputId": "5470c15e-b8d7-4f90-a2b9-632a59d2ef3b"
      },
      "execution_count": 5,
      "outputs": [
        {
          "output_type": "execute_result",
          "data": {
            "text/plain": [
              "4451"
            ]
          },
          "metadata": {},
          "execution_count": 5
        }
      ]
    },
    {
      "cell_type": "code",
      "source": [
        "# threshold_new = 0.3 * 10e5\n",
        "# scene_change_idx_list_new = []\n",
        "\n",
        "# for i in range(len(nonzero)-1):\n",
        "#     if(nonzero[i]>threshold_new): \n",
        "#         scene_change_idx_list_new.append(i)"
      ],
      "metadata": {
        "id": "Bar3n49hHn4s"
      },
      "execution_count": 6,
      "outputs": []
    },
    {
      "cell_type": "code",
      "source": [
        "#len(scene_change_idx_list_new)"
      ],
      "metadata": {
        "id": "4F1JR_a6O51o"
      },
      "execution_count": 7,
      "outputs": []
    },
    {
      "cell_type": "code",
      "source": [
        "threshold = 10e4\n",
        "scene_change_idx_list = []\n",
        "\n",
        "for i in range(1,len(nonzero)-1):\n",
        "  if  nonzero[i]>10e4 and len(str(nonzero[i]))>len(str(nonzero[i-1])):\n",
        "    scene_change_idx_list.append(i)"
      ],
      "metadata": {
        "id": "KO74mgvVOuUG"
      },
      "execution_count": 8,
      "outputs": []
    },
    {
      "cell_type": "code",
      "source": [
        "len(scene_change_idx_list)"
      ],
      "metadata": {
        "colab": {
          "base_uri": "https://localhost:8080/"
        },
        "id": "OHgwE5HFOduk",
        "outputId": "2aa51cd7-9920-4e2f-c966-0fef808d7177"
      },
      "execution_count": 9,
      "outputs": [
        {
          "output_type": "execute_result",
          "data": {
            "text/plain": [
              "126"
            ]
          },
          "metadata": {},
          "execution_count": 9
        }
      ]
    },
    {
      "cell_type": "code",
      "source": [
        "import cv2 \n",
        "\n",
        "# Create a video capture object, in this case we are reading the video from a file\n",
        "video = '/content/drive/MyDrive/Cricket_shots_analysis/ICC_T20_2016/ICC_WT20_2016_v1.mp4'\n",
        "vid_capture = cv2.VideoCapture(video)\n",
        "\n",
        "if (vid_capture.isOpened() == False):\n",
        "    print(\"Error opening the video file\")\n",
        "# Read fps and frame count\n",
        "else:\n",
        "    fps = vid_capture.get(5)\n",
        "    print('Frames per second : ', fps,'FPS')\n",
        "    frame_count = vid_capture.get(7)\n",
        "    print('Frame count : ', frame_count)"
      ],
      "metadata": {
        "colab": {
          "base_uri": "https://localhost:8080/"
        },
        "id": "MK2omSd1Hn7S",
        "outputId": "59c0d72c-311f-4481-aa57-e092fd435f7f"
      },
      "execution_count": 10,
      "outputs": [
        {
          "output_type": "stream",
          "name": "stdout",
          "text": [
            "Frames per second :  25.0 FPS\n",
            "Frame count :  4452.0\n"
          ]
        }
      ]
    },
    {
      "cell_type": "code",
      "source": [
        "out_folder = video.split('/')[-1].split('.')[0]\n",
        "folder_path = '/content/drive/MyDrive/Cricket_shots_analysis/output/{}'.format(out_folder)\n",
        "print(folder_path)\n",
        "!mkdir $folder_path"
      ],
      "metadata": {
        "colab": {
          "base_uri": "https://localhost:8080/"
        },
        "id": "gQbAt-DpHn-N",
        "outputId": "bab92294-c55e-4b68-eb53-0eedc13085b4"
      },
      "execution_count": 11,
      "outputs": [
        {
          "output_type": "stream",
          "name": "stdout",
          "text": [
            "/content/drive/MyDrive/Cricket_shots_analysis/output/ICC_WT20_2016_v1\n"
          ]
        }
      ]
    },
    {
      "cell_type": "code",
      "source": [
        "scene_change_idx_list = [i+1 for i in scene_change_idx_list]\n",
        "scene_change_idx_list[0]"
      ],
      "metadata": {
        "colab": {
          "base_uri": "https://localhost:8080/"
        },
        "id": "FV8UOZPXSY2R",
        "outputId": "cff2b8f9-5a6c-4238-db93-c55051045972"
      },
      "execution_count": 12,
      "outputs": [
        {
          "output_type": "execute_result",
          "data": {
            "text/plain": [
              "108"
            ]
          },
          "metadata": {},
          "execution_count": 12
        }
      ]
    },
    {
      "cell_type": "code",
      "source": [
        "len(scene_change_idx_list)"
      ],
      "metadata": {
        "colab": {
          "base_uri": "https://localhost:8080/"
        },
        "id": "K2fF5XjqWvrW",
        "outputId": "90a2b904-0f7a-4278-f93a-ff3d8e4e82ff"
      },
      "execution_count": 13,
      "outputs": [
        {
          "output_type": "execute_result",
          "data": {
            "text/plain": [
              "126"
            ]
          },
          "metadata": {},
          "execution_count": 13
        }
      ]
    },
    {
      "cell_type": "code",
      "source": [
        "import torch\n",
        "\n",
        "# Model\n",
        "model = torch.hub.load('ultralytics/yolov5', 'yolov5s')"
      ],
      "metadata": {
        "colab": {
          "base_uri": "https://localhost:8080/",
          "height": 413,
          "referenced_widgets": [
            "80941f8d8b9646f7aff0492c75af8a23",
            "51111e165c604a65b1391c0869763422",
            "9a965e9d893742b196d733ace7c42cac",
            "b08a4df161fe4ed988626079eea6bbd1",
            "7e23b0280e6e41fba4234e28b4f8118c",
            "3daba4d190954071b790f0ed5d3cc37b",
            "ae75ab4ec2254d7f9ba9e179f61cb187",
            "650cd98ffe9d41f5a732c2817778d2a2",
            "526bbf32431644ba939ddfb5d9cd91b2",
            "3bdfbfbd556147e2bb8b4935d8958933",
            "cafb520b4a554cf995081bbb62e4c0b7"
          ]
        },
        "id": "UANh-VmpLVr2",
        "outputId": "2dc73faf-23ff-4758-d7c5-87ae9926e95e"
      },
      "execution_count": 14,
      "outputs": [
        {
          "output_type": "stream",
          "name": "stderr",
          "text": [
            "Downloading: \"https://github.com/ultralytics/yolov5/archive/master.zip\" to /root/.cache/torch/hub/master.zip\n",
            "\u001b[31m\u001b[1mrequirements:\u001b[0m PyYAML>=5.3.1 not found and is required by YOLOv5, attempting auto-update...\n",
            "Collecting PyYAML>=5.3.1\n",
            "  Downloading PyYAML-6.0-cp37-cp37m-manylinux_2_5_x86_64.manylinux1_x86_64.manylinux_2_12_x86_64.manylinux2010_x86_64.whl (596 kB)\n",
            "Installing collected packages: PyYAML\n",
            "  Attempting uninstall: PyYAML\n",
            "    Found existing installation: PyYAML 3.13\n",
            "    Uninstalling PyYAML-3.13:\n",
            "      Successfully uninstalled PyYAML-3.13\n",
            "Successfully installed PyYAML-6.0\n",
            "\n",
            "\u001b[31m\u001b[1mrequirements:\u001b[0m 1 package updated per /root/.cache/torch/hub/ultralytics_yolov5_master/requirements.txt\n",
            "\u001b[31m\u001b[1mrequirements:\u001b[0m ⚠️ \u001b[1mRestart runtime or rerun command for updates to take effect\u001b[0m\n",
            "\n",
            "YOLOv5 🚀 2022-5-5 torch 1.11.0+cu113 CPU\n",
            "\n",
            "Downloading https://github.com/ultralytics/yolov5/releases/download/v6.1/yolov5s.pt to yolov5s.pt...\n"
          ]
        },
        {
          "output_type": "display_data",
          "data": {
            "text/plain": [
              "  0%|          | 0.00/14.1M [00:00<?, ?B/s]"
            ],
            "application/vnd.jupyter.widget-view+json": {
              "version_major": 2,
              "version_minor": 0,
              "model_id": "80941f8d8b9646f7aff0492c75af8a23"
            }
          },
          "metadata": {}
        },
        {
          "output_type": "stream",
          "name": "stderr",
          "text": [
            "\n",
            "Fusing layers... \n",
            "YOLOv5s summary: 213 layers, 7225885 parameters, 0 gradients\n",
            "Adding AutoShape... \n"
          ]
        }
      ]
    },
    {
      "cell_type": "code",
      "source": [
        "scene_change_idx_list#"
      ],
      "metadata": {
        "id": "6-Od-KemLXNz"
      },
      "execution_count": null,
      "outputs": []
    },
    {
      "cell_type": "code",
      "source": [
        "count= 0\n",
        "frame_width = int(vid_capture.get(3))\n",
        "frame_height = int(vid_capture.get(4))\n",
        "vid_count = 0\n",
        "index = 0\n",
        "\n",
        "video_name = \"/content/drive/MyDrive/Cricket_shots_analysis/output/{}/output_shot_{}.avi\".format(out_folder,vid_count)\n",
        "out = cv2.VideoWriter(video_name, cv2.VideoWriter_fourcc(*\"MJPG\"), fps,(frame_width, frame_height))\n",
        "\n",
        "import time\n",
        "start_time = time.time()\n",
        "\n",
        "while(vid_capture.isOpened()):\n",
        "  #count+=1\n",
        "  #print(count)\n",
        "  ret, frame = vid_capture.read()\n",
        "  #plt.imshow(cv2.cvtColor(frame,cv2.COLOR_BGR2RGB))\n",
        "  #plt.show()\n",
        "  if ret == True:\n",
        "    if int(vid_capture.get(cv2.CAP_PROP_POS_FRAMES)) not in scene_change_idx_list:\n",
        "        \n",
        "        results = model(frame)\n",
        "        pred = results.pandas().xyxy[0]\n",
        "        if 'person' not in list(pred.name):\n",
        "          vid_capture.set(cv2.CAP_PROP_POS_FRAMES, scene_change_idx_list[0]-1)\n",
        "          continue\n",
        "        else:\n",
        "          start = int(vid_capture.get(cv2.CAP_PROP_POS_FRAMES))\n",
        "          end = scene_change_idx_list[index]-1\n",
        "          for i in range(start,end):\n",
        "            ret, image = vid_capture.read()\n",
        "            if ret:\n",
        "              out.write(frame)\n",
        "\n",
        "    else:\n",
        "        index = index+1\n",
        "        vid_count = vid_count+1\n",
        "        video_name = \"/content/drive/MyDrive/Cricket_shots_analysis/output/{}/output_shot_{}.avi\".format(out_folder,vid_count)\n",
        "        out = cv2.VideoWriter(video_name, cv2.VideoWriter_fourcc(*\"MJPG\"), fps,(frame_width, frame_height))\n",
        "\n",
        "\n",
        "  else:\n",
        "    # Release the video capture object\n",
        "    end_time = time.time()\n",
        "    total_duration = end_time - start_time\n",
        "    print(\"Execution time \",total_duration)\n",
        "    frames_parsed = vid_capture.get(cv2.CAP_PROP_POS_FRAMES)\n",
        "    print(\"Total frames parsed:\",frames_parsed)\n",
        "    print(\"Time taken for each frame:\",total_duration/frames_parsed)\n",
        "    #print(\"Frames parsed per second:\",frames_parsed/total_duration)\n",
        "    vid_capture.release()\n",
        "    break\n"
      ],
      "metadata": {
        "colab": {
          "base_uri": "https://localhost:8080/",
          "height": 235
        },
        "id": "jdSo1TDfN45k",
        "outputId": "8fa58515-ba10-4994-9e26-6b7d668eff96"
      },
      "execution_count": null,
      "outputs": [
        {
          "output_type": "error",
          "ename": "KeyboardInterrupt",
          "evalue": "ignored",
          "traceback": [
            "\u001b[0;31m---------------------------------------------------------------------------\u001b[0m",
            "\u001b[0;31mKeyboardInterrupt\u001b[0m                         Traceback (most recent call last)",
            "\u001b[0;32m<ipython-input-69-c5e65919df0a>\u001b[0m in \u001b[0;36m<module>\u001b[0;34m()\u001b[0m\n\u001b[1;32m     19\u001b[0m     \u001b[0;32mif\u001b[0m \u001b[0mint\u001b[0m\u001b[0;34m(\u001b[0m\u001b[0mvid_capture\u001b[0m\u001b[0;34m.\u001b[0m\u001b[0mget\u001b[0m\u001b[0;34m(\u001b[0m\u001b[0mcv2\u001b[0m\u001b[0;34m.\u001b[0m\u001b[0mCAP_PROP_POS_FRAMES\u001b[0m\u001b[0;34m)\u001b[0m\u001b[0;34m)\u001b[0m \u001b[0;32mnot\u001b[0m \u001b[0;32min\u001b[0m \u001b[0mscene_change_idx_list\u001b[0m\u001b[0;34m:\u001b[0m\u001b[0;34m\u001b[0m\u001b[0;34m\u001b[0m\u001b[0m\n\u001b[1;32m     20\u001b[0m \u001b[0;34m\u001b[0m\u001b[0m\n\u001b[0;32m---> 21\u001b[0;31m         \u001b[0mout\u001b[0m\u001b[0;34m.\u001b[0m\u001b[0mwrite\u001b[0m\u001b[0;34m(\u001b[0m\u001b[0mframe\u001b[0m\u001b[0;34m)\u001b[0m\u001b[0;34m\u001b[0m\u001b[0;34m\u001b[0m\u001b[0m\n\u001b[0m\u001b[1;32m     22\u001b[0m \u001b[0;34m\u001b[0m\u001b[0m\n\u001b[1;32m     23\u001b[0m     \u001b[0;32melse\u001b[0m\u001b[0;34m:\u001b[0m\u001b[0;34m\u001b[0m\u001b[0;34m\u001b[0m\u001b[0m\n",
            "\u001b[0;31mKeyboardInterrupt\u001b[0m: "
          ]
        }
      ]
    },
    {
      "cell_type": "code",
      "source": [
        "    results = model(frame)\n",
        "    pred = results.pandas().xyxy[0]\n",
        "\n",
        "    #if 'sports ball' in list(pred.class_name) and 'person' in list(pred.class_name):\n",
        "    if 'sports ball' in list(pred.name) and 'person' in list(pred.name):\n",
        "\n",
        "      print(\"ball and person detected\")\n",
        "\n",
        "      #if 'baseball bat' in list(pred.class_name):\n",
        "      if 'baseball bat' in list(pred.name):\n",
        "        print(\"bat 1,ball and person detected\")"
      ],
      "metadata": {
        "id": "VxwW-ma2Mfdb"
      },
      "execution_count": null,
      "outputs": []
    },
    {
      "cell_type": "code",
      "source": [
        "46th second shot missing "
      ],
      "metadata": {
        "id": "So7QdMbyHoA2"
      },
      "execution_count": null,
      "outputs": []
    },
    {
      "cell_type": "code",
      "source": [
        ""
      ],
      "metadata": {
        "id": "54s5OU8pHoDq"
      },
      "execution_count": null,
      "outputs": []
    },
    {
      "cell_type": "code",
      "source": [
        ""
      ],
      "metadata": {
        "id": "_ywDlx81HoF1"
      },
      "execution_count": null,
      "outputs": []
    },
    {
      "cell_type": "code",
      "source": [
        ""
      ],
      "metadata": {
        "id": "tc4NRb0yHoJU"
      },
      "execution_count": null,
      "outputs": []
    },
    {
      "cell_type": "code",
      "source": [
        ""
      ],
      "metadata": {
        "id": "-HQuIYmSHoMk"
      },
      "execution_count": null,
      "outputs": []
    },
    {
      "cell_type": "code",
      "source": [
        "threshold = 0.3 * 10e6\n",
        "for i in range(len(images)-1):\n",
        "    if(nonzero[i]>threshold): \n",
        "        scene_change_idx = i\n",
        "        break\n",
        "        \n",
        "frames = frames[:(scene_change_idx+1)]"
      ],
      "metadata": {
        "id": "SzghkraRHoPh"
      },
      "execution_count": null,
      "outputs": []
    },
    {
      "cell_type": "code",
      "source": [
        "nonzero=[]\n",
        "for i in range((len(images)-1)):\n",
        "    \n",
        "    mask = cv2.absdiff(images[i],images[i+1])\n",
        "    _ , mask = cv2.threshold(mask, 50, 255, cv2.THRESH_BINARY)\n",
        "    num = np.count_nonzero((mask.ravel()))\n",
        "    nonzero.append(num)\n",
        "    \n",
        "    \n",
        "x = np.arange(0,len(images)-1)\n",
        "y = nonzero\n",
        "\n",
        "plt.figure(figsize=(20,4))\n",
        "plt.scatter(x,y)"
      ],
      "metadata": {
        "id": "O-HJDcn_tGkm"
      },
      "execution_count": null,
      "outputs": []
    }
  ]
}